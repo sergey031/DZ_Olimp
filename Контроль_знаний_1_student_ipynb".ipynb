{
  "nbformat": 4,
  "nbformat_minor": 0,
  "metadata": {
    "colab": {
      "provenance": [],
      "include_colab_link": true
    },
    "kernelspec": {
      "name": "python3",
      "display_name": "Python 3"
    }
  },
  "cells": [
    {
      "cell_type": "markdown",
      "metadata": {
        "id": "view-in-github",
        "colab_type": "text"
      },
      "source": [
        "<a href=\"https://colab.research.google.com/github/sergey031/DZ_Olimp/blob/master/%D0%9A%D0%BE%D0%BD%D1%82%D1%80%D0%BE%D0%BB%D1%8C_%D0%B7%D0%BD%D0%B0%D0%BD%D0%B8%D0%B9_1_student_ipynb%22.ipynb\" target=\"_parent\"><img src=\"https://colab.research.google.com/assets/colab-badge.svg\" alt=\"Open In Colab\"/></a>"
      ]
    },
    {
      "cell_type": "markdown",
      "metadata": {
        "id": "ZpsVwgnETeJG"
      },
      "source": [
        "Вам необходимо загрузить набор данных «**subset-covid-data.csv**», содержащий данные о количестве случаев и смертей, связанных с пандемией **COVID-19**, для разных стран. https://github.com/DataRepo2019/Data-files или  https://github.com/DataRepo2019/Data-files/blob/master/subset-covid-data.csv    \n",
        "\n"
      ]
    },
    {
      "cell_type": "markdown",
      "metadata": {
        "id": "1VkXcRACpx5v"
      },
      "source": [
        "# **ЗАДАНИЕ 1**\n",
        "Напишите функцию / индексатор / атрибут в Pandas для:"
      ]
    },
    {
      "cell_type": "code",
      "metadata": {
        "id": "JDH83dPyJY4r"
      },
      "source": [
        "import numpy as np\n",
        "from scipy.integrate import odeint\n",
        "import matplotlib.pyplot as plt\n",
        "import pandas as pd"
      ],
      "execution_count": null,
      "outputs": []
    },
    {
      "cell_type": "code",
      "metadata": {
        "id": "aKkc9R8foxAT"
      },
      "source": [
        "# 1.1\tИмпорта данных из файла HTML.\n",
        "#\n",
        "pd.read_html(url)"
      ],
      "execution_count": null,
      "outputs": []
    },
    {
      "cell_type": "code",
      "metadata": {
        "id": "NEFyE2SRqcUy"
      },
      "source": [
        "# 1.2\tЭкспорта данных в файл Excel.\n",
        "# ваш код\n",
        "pd.to_exsel(name_of_fale)"
      ],
      "execution_count": null,
      "outputs": []
    },
    {
      "cell_type": "code",
      "metadata": {
        "id": "LtxyhFuxqmFg"
      },
      "source": [
        "# 1.3\tВыбора данных с использованием позиции индекса.\n",
        "# ваш код\n",
        "first_row = covid_data.iloc[0]\n",
        "\n",
        "value_at_first_row_first_column = covid_data.iloc[0, 0]\n",
        "\n",
        "subset_data = covid_data.iloc[:5, :3]"
      ],
      "execution_count": null,
      "outputs": []
    },
    {
      "cell_type": "code",
      "metadata": {
        "id": "R3hyPjSWUC65"
      },
      "source": [
        "# 1.4\tВыбора данных по метке.\n",
        "# ваш код\n",
        "covid_data.loc['label']"
      ],
      "execution_count": null,
      "outputs": []
    },
    {
      "cell_type": "code",
      "metadata": {
        "id": "Jlk2Vhy1UDy1"
      },
      "source": [
        "# 1.5\tЗамены нулевых значений медианой.\n",
        "# ваш код\n",
        "covid_data.replace(0, covid_data.median(), inplace=True)"
      ],
      "execution_count": null,
      "outputs": []
    },
    {
      "cell_type": "code",
      "metadata": {
        "id": "PVgOLPfzUD97"
      },
      "source": [
        "# 1.6\tПереименования столбцов.\n",
        "# ваш код\n",
        "covid_data.rename(columns={'old_column_name': 'new_column_name'}, inplace=True)"
      ],
      "execution_count": null,
      "outputs": []
    },
    {
      "cell_type": "code",
      "metadata": {
        "id": "Xvi0aqmpUEIw"
      },
      "source": [
        "# 1.7\tПолучения количества строк и столбцов в DataFrame.\n",
        "# ваш код\n",
        "num_rows, num_columns = covid_data.shape"
      ],
      "execution_count": null,
      "outputs": []
    },
    {
      "cell_type": "code",
      "metadata": {
        "id": "l6eP6khNUESx"
      },
      "source": [
        "# 1.8\tПреобразования в широкоформатный формат с помощью функции поворота.\n",
        "# ваш код\n",
        "covid_data_wide_format = covid_data.pivot(index='index_column', columns='columns_to_pivot')"
      ],
      "execution_count": null,
      "outputs": []
    },
    {
      "cell_type": "code",
      "metadata": {
        "id": "KPUJxDYyUFQw"
      },
      "source": [
        "# 1.9\tВыполнения внутреннего соединения двух таблиц.\n",
        "# ваш код\n",
        "merged_data = pd.merge(table1, table2, on='common_column')"
      ],
      "execution_count": null,
      "outputs": []
    },
    {
      "cell_type": "code",
      "metadata": {
        "id": "wYmXODuMUFbg"
      },
      "source": [
        "# 1.10\tИзменение типа данных серии.\n",
        "# ваш код\n",
        "covid_data['column_name'] = covid_data['column_name'].astype('new_data_type')"
      ],
      "execution_count": null,
      "outputs": []
    },
    {
      "cell_type": "markdown",
      "metadata": {
        "id": "HR8X48IK5DxM"
      },
      "source": [
        "# **ЗАДАНИЕ 2**\n",
        "Функция **df.describe()** возвращает следующие сводные статистические значения: количество, минимум, максимум, стандартное отклонение, процентили и средние значения.\n"
      ]
    },
    {
      "cell_type": "code",
      "metadata": {
        "id": "mPNHMya6qp-m"
      },
      "source": [
        "# 2.1 Какой параметр вы бы добавили, чтобы получить следующее:\n",
        "# количество уникальных значений, значение, которое встречается чаще всего,\n",
        "# и частота этого значения?\n",
        "\n",
        "# ваш код\n",
        "summary_statistics = covid_data.describe(include='all')"
      ],
      "execution_count": null,
      "outputs": []
    },
    {
      "cell_type": "markdown",
      "metadata": {
        "id": "rSFJSILTDL28"
      },
      "source": [
        "# **ЗАДАНИЕ  3**\n",
        "Импортируйте «**subset-covid-data.csv**» в **DataFrame**. Выберите следующие данные:\n"
      ]
    },
    {
      "cell_type": "code",
      "metadata": {
        "id": "UeMH-JXpKX0B",
        "colab": {
          "base_uri": "https://localhost:8080/"
        },
        "outputId": "76840167-ed54-4507-f081-98c332cfd88c"
      },
      "source": [
        "import pandas as pd\n",
        "\n",
        "file_path = \"/content/subset-covid-data.csv\"\n",
        "covid_data = pd.read_csv(file_path, encoding='latin1')\n",
        "print(covid_data.head())"
      ],
      "execution_count": null,
      "outputs": [
        {
          "output_type": "stream",
          "name": "stdout",
          "text": [
            "       country continent        date  day  month  year  cases  deaths  \\\n",
            "0  Afghanistan      Asia  2020-04-12   12      4  2020     34       3   \n",
            "1      Albania    Europe  2020-04-12   12      4  2020     17       0   \n",
            "2      Algeria    Africa  2020-04-12   12      4  2020     64      19   \n",
            "3      Andorra    Europe  2020-04-12   12      4  2020     21       2   \n",
            "4       Angola    Africa  2020-04-12   12      4  2020      0       0   \n",
            "\n",
            "  country_code  population  \n",
            "0          AFG  37172386.0  \n",
            "1          ALB   2866376.0  \n",
            "2          DZA  42228429.0  \n",
            "3          AND     77006.0  \n",
            "4          AGO  30809762.0  \n"
          ]
        }
      ]
    },
    {
      "cell_type": "code",
      "metadata": {
        "id": "YRhGtwGSDP6Y",
        "colab": {
          "base_uri": "https://localhost:8080/"
        },
        "outputId": "75ba4ead-a1ca-4a0a-c5a3-f213e8aac49f"
      },
      "source": [
        "# 3.1\tСтолбцы  'country'  и 'continent'.\n",
        "\n",
        "# ваш код\n",
        "selected_columns = covid_data[['country', 'continent']]\n",
        "print(selected_columns.head())"
      ],
      "execution_count": null,
      "outputs": [
        {
          "output_type": "stream",
          "name": "stdout",
          "text": [
            "       country continent\n",
            "0  Afghanistan      Asia\n",
            "1      Albania    Europe\n",
            "2      Algeria    Africa\n",
            "3      Andorra    Europe\n",
            "4       Angola    Africa\n"
          ]
        }
      ]
    },
    {
      "cell_type": "code",
      "metadata": {
        "id": "w_k2zEf5DXOT",
        "colab": {
          "base_uri": "https://localhost:8080/"
        },
        "outputId": "c1a5ab6e-bb1e-428a-9a2a-fab0d7df1be7"
      },
      "source": [
        "# 3.2\tУстановите столбец 'country' в качестве индекса и извлеките численность населения,\n",
        "# для страны “Algeria” с помощью индексаторов at или loc.\n",
        "\n",
        "# ваш код\n",
        "\n",
        "covid_data.set_index('country', inplace=True)\n",
        "population_algeria = covid_data.loc['Algeria', 'population']\n",
        "print(population_algeria)\n"
      ],
      "execution_count": null,
      "outputs": [
        {
          "output_type": "stream",
          "name": "stdout",
          "text": [
            "42228429.0\n"
          ]
        }
      ]
    },
    {
      "cell_type": "code",
      "metadata": {
        "id": "Ultez7AEDeX8",
        "colab": {
          "base_uri": "https://localhost:8080/"
        },
        "outputId": "457fa024-04d4-4bb6-b77a-8c543df3d828"
      },
      "source": [
        "# 3.3\tВыберите значение в 50-й строке и 3-м столбце с помощью iloc или индексатора iat.\n",
        "\n",
        "# ваш код\n",
        "value_at_50th_row_3rd_column = covid_data.iloc[49, 2]\n",
        "value_at_50th_row_3rd_column_iat = covid_data.iat[49, 2]\n",
        "print(value_at_50th_row_3rd_column)\n",
        "print(value_at_50th_row_3rd_column_iat)\n"
      ],
      "execution_count": null,
      "outputs": [
        {
          "output_type": "stream",
          "name": "stdout",
          "text": [
            "12\n",
            "12\n"
          ]
        }
      ]
    },
    {
      "cell_type": "code",
      "metadata": {
        "id": "A0C-5OPrHc_b",
        "colab": {
          "base_uri": "https://localhost:8080/"
        },
        "outputId": "025c0558-07cc-463f-d4d6-b51bd13e721c"
      },
      "source": [
        "# 3.4\tПолучите код страны и данные о населении последних трех записей.\n",
        "\n",
        "# ваш код\n",
        "covid_data = pd.read_csv(file_path)\n",
        "last_three_rows = covid_data[['country_code', 'population']].tail(3)\n",
        "print(last_three_rows)"
      ],
      "execution_count": null,
      "outputs": [
        {
          "output_type": "stream",
          "name": "stdout",
          "text": [
            "    country_code  population\n",
            "203          YEM  28498687.0\n",
            "204          ZMB  17351822.0\n",
            "205          ZWE  14439018.0\n"
          ]
        }
      ]
    },
    {
      "cell_type": "code",
      "metadata": {
        "id": "kdlm-VI_H57s",
        "colab": {
          "base_uri": "https://localhost:8080/"
        },
        "outputId": "2556c2a9-7f7c-4321-afbc-4a93d91ae343"
      },
      "source": [
        "# 3.5\tВыберите данные для стран с большим населением: более 2,5 миллионов, а количество заболевших - более 3000.\n",
        "\n",
        "# ваш код\n",
        "selected_data = covid_data[(covid_data['population'] > 2500000) & (covid_data['cases'] > 3000)]\n",
        "print(selected_data)"
      ],
      "execution_count": null,
      "outputs": [
        {
          "output_type": "stream",
          "name": "stdout",
          "text": [
            "                      country continent        date  day  month  year  cases  \\\n",
            "69                     France    Europe  2020-04-12   12      4  2020   3114   \n",
            "98                      Italy    Europe  2020-04-12   12      4  2020   4694   \n",
            "177                     Spain    Europe  2020-04-11   11      4  2020   4550   \n",
            "190                    Turkey      Asia  2020-04-12   12      4  2020   5138   \n",
            "195            United_Kingdom    Europe  2020-04-12   12      4  2020   8719   \n",
            "198  United_States_of_America   America  2020-04-12   12      4  2020  28391   \n",
            "\n",
            "     deaths country_code   population  \n",
            "69      635          FRA   66987244.0  \n",
            "98      619          ITA   60431283.0  \n",
            "177     605          ESP   46723749.0  \n",
            "190      95          TUR   82319724.0  \n",
            "195     839          GBR   66488991.0  \n",
            "198    1831          USA  327167434.0  \n"
          ]
        }
      ]
    },
    {
      "cell_type": "markdown",
      "metadata": {
        "id": "UvDAVxdGuqM1"
      },
      "source": [
        "# **ЗАДАНИЕ 4**\n",
        "Импортируйте данные для файла «**subset-covid-data.csv**» в DataFrame и напишите код для следующего:"
      ]
    },
    {
      "cell_type": "code",
      "metadata": {
        "id": "oEZ50WSUu6p3"
      },
      "source": [
        "# 4.1. Удалить столбец «country_code».\n",
        "\n",
        "# ваш код\n",
        "x = covid_data.pop('country_code')\n"
      ],
      "execution_count": null,
      "outputs": []
    },
    {
      "cell_type": "code",
      "metadata": {
        "id": "kIc5Wchsu6vO"
      },
      "source": [
        "# 4.2. Вставить этот столбец обратно.\n",
        "\n",
        "# ваш код\n",
        "covid_data['country_code'] = x\n"
      ],
      "execution_count": null,
      "outputs": []
    },
    {
      "cell_type": "code",
      "metadata": {
        "id": "aO8zPnYSwUhu"
      },
      "source": [
        "# 4.3. Удалить первые три строки.\n",
        "\n",
        "# ваш код\n",
        "first_three_rows = covid_data.head(3)\n",
        "covid_data = covid_data.iloc[3:]"
      ],
      "execution_count": null,
      "outputs": []
    },
    {
      "cell_type": "code",
      "metadata": {
        "id": "TtNL4TXEw8pM"
      },
      "source": [
        "#  4.4. Добавить удаленные первые три строки обратно.\n",
        "\n",
        "# ваш код\n",
        "covid_data = pd.concat([first_three_rows, covid_data], axis=0)"
      ],
      "execution_count": null,
      "outputs": []
    },
    {
      "cell_type": "markdown",
      "metadata": {
        "id": "6ZkryLfhXGLu"
      },
      "source": [
        "# **ЗАДАНИЕ 5**\n",
        "Следующий DataFrame записывает изменение веса четырех человек:\n",
        "![Снимок.JPG](data:image/jpeg;base64,/9j/4AAQSkZJRgABAQEAYABgAAD/4RCIRXhpZgAATU0AKgAAAAgABAE7AAIAAAAHAAAISodpAAQAAAABAAAIUpydAAEAAAAOAAAQcuocAAcAAAgMAAAAPgAAAAAc6gAAAAgAAAAAAAAAAAAAAAAAAAAAAAAAAAAAAAAAAAAAAAAAAAAAAAAAAAAAAAAAAAAAAAAAAAAAAAAAAAAAAAAAAAAAAAAAAAAAAAAAAAAAAAAAAAAAAAAAAAAAAAAAAAAAAAAAAAAAAAAAAAAAAAAAAAAAAAAAAAAAAAAAAAAAAAAAAAAAAAAAAAAAAAAAAAAAAAAAAAAAAAAAAAAAAAAAAAAAAAAAAAAAAAAAAAAAAAAAAAAAAAAAAAAAAAAAAAAAAAAAAAAAAAAAAAAAAAAAAAAAAAAAAAAAAAAAAAAAAAAAAAAAAAAAAAAAAAAAAAAAAAAAAAAAAAAAAAAAAAAAAAAAAAAAAAAAAAAAAAAAAAAAAAAAAAAAAAAAAAAAAAAAAAAAAAAAAAAAAAAAAAAAAAAAAAAAAAAAAAAAAAAAAAAAAAAAAAAAAAAAAAAAAAAAAAAAAAAAAAAAAAAAAAAAAAAAAAAAAAAAAAAAAAAAAAAAAAAAAAAAAAAAAAAAAAAAAAAAAAAAAAAAAAAAAAAAAAAAAAAAAAAAAAAAAAAAAAAAAAAAAAAAAAAAAAAAAAAAAAAAAAAAAAAAAAAAAAAAAAAAAAAAAAAAAAAAAAAAAAAAAAAAAAAAAAAAAAAAAAAAAAAAAAAAAAAAAAAAAAAAAAAAAAAAAAAAAAAAAAAAAAAAAAAAAAAAAAAAAAAAAAAAAAAAAAAAAAAAAAAAAAAAAAAAAAAAAAAAAAAAAAAAAAAAAAAAAAAAAAAAAAAAAAAAAAAAAAAAAAAAAAAAAAAAAAAAAAAAAAAAAAAAAAAAAAAAAAAAAAAAAAAAAAAAAAAAAAAAAAAAAAAAAAAAAAAAAAAAAAAAAAAAAAAAAAAAAAAAAAAAAAAAAAAAAAAAAAAAAAAAAAAAAAAAAAAAAAAAAAAAAAAAAAAAAAAAAAAAAAAAAAAAAAAAAAAAAAAAAAAAAAAAAAAAAAAAAAAAAAAAAAAAAAAAAAAAAAAAAAAAAAAAAAAAAAAAAAAAAAAAAAAAAAAAAAAAAAAAAAAAAAAAAAAAAAAAAAAAAAAAAAAAAAAAAAAAAAAAAAAAAAAAAAAAAAAAAAAAAAAAAAAAAAAAAAAAAAAAAAAAAAAAAAAAAAAAAAAAAAAAAAAAAAAAAAAAAAAAAAAAAAAAAAAAAAAAAAAAAAAAAAAAAAAAAAAAAAAAAAAAAAAAAAAAAAAAAAAAAAAAAAAAAAAAAAAAAAAAAAAAAAAAAAAAAAAAAAAAAAAAAAAAAAAAAAAAAAAAAAAAAAAAAAAAAAAAAAAAAAAAAAAAAAAAAAAAAAAAAAAAAAAAAAAAAAAAAAAAAAAAAAAAAAAAAAAAAAAAAAAAAAAAAAAAAAAAAAAAAAAAAAAAAAAAAAAAAAAAAAAAAAAAAAAAAAAAAAAAAAAAAAAAAAAAAAAAAAAAAAAAAAAAAAAAAAAAAAAAAAAAAAAAAAAAAAAAAAAAAAAAAAAAAAAAAAAAAAAAAAAAAAAAAAAAAAAAAAAAAAAAAAAAAAAAAAAAAAAAAAAAAAAAAAAAAAAAAAAAAAAAAAAAAAAAAAAAAAAAAAAAAAAAAAAAAAAAAAAAAAAAAAAAAAAAAAAAAAAAAAAAAAAAAAAAAAAAAAAAAAAAAAAAAAAAAAAAAAAAAAAAAAAAAAAAAAAAAAAAAAAAAAAAAAAAAAAAAAAAAAAAAAAAAAAAAAAAAAAAAAAAAAAAAAAAAAAAAAAAAAAAAAAAAAAAAAAAAAAAAAAAAAAAAAAAAAAAAAAAAAAAAAAAAAAAAAAAAAAAAAAAAAAAAAAAAAAAAAAAAAAAAAAAAAAAAAAAAAAAAAAAAAAAAAAAAAAAAAAAAAAAAAAAAAAAAAAAAAAAAAAAAAAAAAAAAAAAAAAAAAAAAAAAAAAAAAAAAAAAAAAAAAAAAAAAAAAAAAAAAAAAAAAAAAAAAAAAAAAAAAAAAAAAAAAAAAAAAAAAAAAAAAAAAAAAAAAAAAAAAAAAAAAAAAAAAAAAAAAAAAAAAAAAAAAAAAAAAAAAAAAAAAAAAAAAAAAAAAAAAAAAAAAAAAAAAAAAAAAAAAAAAAAAAAAAAAAAAAAAAAAAAAAAAAAAAAAAAAAAAAAAAAAAAAAAAAAAAAAAAAAAAAAAAAAAAAAAAAAAAAAAAAAAAAAAAAAAAAAAAAAAAAAAAAAAAAAAAAAAAAAAAAAAAAAAAAAAAAAAAAAAAAAAAAAAAAAAAAAAAAAAAAAAAAAAAAAAAAAAAAAAAAAAAAAAAAAAAAAAAAAAAAAAAAAAAAAAAAAAAAAAAAAAAAAAAAAAAAAAAAAAAAAAAAAAAAAAAAAAAAAAAAAAAAAAAAAAAAAAAAAAAAAAAAAAAAAAAAAAAAAAAAAAAAAAAAAAAAAAAAAAAAAAAAAAAAAAAAAAAAAAAAAAAAAAAAAAAAAAAAAAAAAAAAAAAAAAAAAAAAAAAAAAAAAAAAAAAAAAAAAAAAAAAAAAAAAAAAAAAAAAAAAAAAAAAAAAAAAAAAAAAAAAAAAAAAAAAAAAAAAAAAAAAAAAAAAAAAAAAAAAAAAAAAAAAAAAAAAAAAAAAAAAAAAAAAAAAAAAAAAAAAAAAAAAAAAAAAAAAAAAAAAAAAAAAAAAAAAAAAAAAAAAAAAAAAAAAAAAAAAAAAAAAAAAAAAAAAAAAAAAAAAAAAAAAAAAAAAAAAAAAAAAAAAAAAAAAAAAAAAAAAAAAAAAAAAAAAAAAAAAAGJvc3N1YQAAAAHqHAAHAAAIDAAACGQAAAAAHOoAAAAIAAAAAAAAAAAAAAAAAAAAAAAAAAAAAAAAAAAAAAAAAAAAAAAAAAAAAAAAAAAAAAAAAAAAAAAAAAAAAAAAAAAAAAAAAAAAAAAAAAAAAAAAAAAAAAAAAAAAAAAAAAAAAAAAAAAAAAAAAAAAAAAAAAAAAAAAAAAAAAAAAAAAAAAAAAAAAAAAAAAAAAAAAAAAAAAAAAAAAAAAAAAAAAAAAAAAAAAAAAAAAAAAAAAAAAAAAAAAAAAAAAAAAAAAAAAAAAAAAAAAAAAAAAAAAAAAAAAAAAAAAAAAAAAAAAAAAAAAAAAAAAAAAAAAAAAAAAAAAAAAAAAAAAAAAAAAAAAAAAAAAAAAAAAAAAAAAAAAAAAAAAAAAAAAAAAAAAAAAAAAAAAAAAAAAAAAAAAAAAAAAAAAAAAAAAAAAAAAAAAAAAAAAAAAAAAAAAAAAAAAAAAAAAAAAAAAAAAAAAAAAAAAAAAAAAAAAAAAAAAAAAAAAAAAAAAAAAAAAAAAAAAAAAAAAAAAAAAAAAAAAAAAAAAAAAAAAAAAAAAAAAAAAAAAAAAAAAAAAAAAAAAAAAAAAAAAAAAAAAAAAAAAAAAAAAAAAAAAAAAAAAAAAAAAAAAAAAAAAAAAAAAAAAAAAAAAAAAAAAAAAAAAAAAAAAAAAAAAAAAAAAAAAAAAAAAAAAAAAAAAAAAAAAAAAAAAAAAAAAAAAAAAAAAAAAAAAAAAAAAAAAAAAAAAAAAAAAAAAAAAAAAAAAAAAAAAAAAAAAAAAAAAAAAAAAAAAAAAAAAAAAAAAAAAAAAAAAAAAAAAAAAAAAAAAAAAAAAAAAAAAAAAAAAAAAAAAAAAAAAAAAAAAAAAAAAAAAAAAAAAAAAAAAAAAAAAAAAAAAAAAAAAAAAAAAAAAAAAAAAAAAAAAAAAAAAAAAAAAAAAAAAAAAAAAAAAAAAAAAAAAAAAAAAAAAAAAAAAAAAAAAAAAAAAAAAAAAAAAAAAAAAAAAAAAAAAAAAAAAAAAAAAAAAAAAAAAAAAAAAAAAAAAAAAAAAAAAAAAAAAAAAAAAAAAAAAAAAAAAAAAAAAAAAAAAAAAAAAAAAAAAAAAAAAAAAAAAAAAAAAAAAAAAAAAAAAAAAAAAAAAAAAAAAAAAAAAAAAAAAAAAAAAAAAAAAAAAAAAAAAAAAAAAAAAAAAAAAAAAAAAAAAAAAAAAAAAAAAAAAAAAAAAAAAAAAAAAAAAAAAAAAAAAAAAAAAAAAAAAAAAAAAAAAAAAAAAAAAAAAAAAAAAAAAAAAAAAAAAAAAAAAAAAAAAAAAAAAAAAAAAAAAAAAAAAAAAAAAAAAAAAAAAAAAAAAAAAAAAAAAAAAAAAAAAAAAAAAAAAAAAAAAAAAAAAAAAAAAAAAAAAAAAAAAAAAAAAAAAAAAAAAAAAAAAAAAAAAAAAAAAAAAAAAAAAAAAAAAAAAAAAAAAAAAAAAAAAAAAAAAAAAAAAAAAAAAAAAAAAAAAAAAAAAAAAAAAAAAAAAAAAAAAAAAAAAAAAAAAAAAAAAAAAAAAAAAAAAAAAAAAAAAAAAAAAAAAAAAAAAAAAAAAAAAAAAAAAAAAAAAAAAAAAAAAAAAAAAAAAAAAAAAAAAAAAAAAAAAAAAAAAAAAAAAAAAAAAAAAAAAAAAAAAAAAAAAAAAAAAAAAAAAAAAAAAAAAAAAAAAAAAAAAAAAAAAAAAAAAAAAAAAAAAAAAAAAAAAAAAAAAAAAAAAAAAAAAAAAAAAAAAAAAAAAAAAAAAAAAAAAAAAAAAAAAAAAAAAAAAAAAAAAAAAAAAAAAAAAAAAAAAAAAAAAAAAAAAAAAAAAAAAAAAAAAAAAAAAAAAAAAAAAAAAAAAAAAAAAAAAAAAAAAAAAAAAAAAAAAAAAAAAAAAAAAAAAAAAAAAAAAAAAAAAAAAAAAAAAAAAAAAAAAAAAAAAAAAAAAAAAAAAAAAAAAAAAAAAAAAAAAAAAAAAAAAAAAAAAAAAAAAAAAAAAAAAAAAAAAAAAAAAAAAAAAAAAAAAAAAAAAAAAAAAAAAAAAAAAAAAAAAAAAAAAAAAAAAAAAAAAAAAAAAAAAAAAAAAAAAAAAAAAAAAAAAAAAAAAAAAAAAAAAAAAAAAAAAAAAAAAAAAAAAAAAAAAAAAAAAAAAAAAAAAAAAAAAAAAAAAAAAAAAAAAAAAAAAAAAAAAAAAAAAAAAAAAAAAAAAAAAAAAAAAAAAAAAAAAAAAAAAAAAAAAAAAAAAAAAAAAAAAAAAAAAAAAAAAAAAAAAAAAAAAAAAAAAAAAAAAAAAAAAAAAAAAAAAAAAAAAAAAAAAAAAAAAAAAAAAAAAAAAAAAAAAAAAAAAAAAAAAAAAAAAAAAAAAAAAAAAAAAAAAAAAAAAAAAAAAAAAAAAAAAAAAAAAAAAAAAAAAAAAAAAAAAAAAAAAAAAAAAAAAAAAAAAAAAAAAAAAAAAAAAAAAAAAAAAAAAAAAAAAAAAAAAAAAAAAAAAAAAAAAAAAAAAAAAAAAAAAAAAAAAAAAAAAAAAAAAAAAAAAAAAAAAAAAAAAAAAAAAAAAAAAAAAAAAAAAAAAAAAAAAAAAAAAAAAAAAAAAAAAAAAAAAAAAAAAAAAAAAAAAAAAAAAAAAAAAAAAAAAAAAAAAAAAAAAAAAAAAAAAAAAAAAAAAAAAAAAAAAAAAAAAAAAAAAAAAAAAAAAAAAAAAAAAAAAAAAAAAAAAAAAAAAAAAAAAAAAAAAAAAAAAAAAAAAAAAAAAGIAbwBzAHMAdQBhAAAA/+EKX2h0dHA6Ly9ucy5hZG9iZS5jb20veGFwLzEuMC8APD94cGFja2V0IGJlZ2luPSfvu78nIGlkPSdXNU0wTXBDZWhpSHpyZVN6TlRjemtjOWQnPz4NCjx4OnhtcG1ldGEgeG1sbnM6eD0iYWRvYmU6bnM6bWV0YS8iPjxyZGY6UkRGIHhtbG5zOnJkZj0iaHR0cDovL3d3dy53My5vcmcvMTk5OS8wMi8yMi1yZGYtc3ludGF4LW5zIyI+PHJkZjpEZXNjcmlwdGlvbiByZGY6YWJvdXQ9InV1aWQ6ZmFmNWJkZDUtYmEzZC0xMWRhLWFkMzEtZDMzZDc1MTgyZjFiIiB4bWxuczpkYz0iaHR0cDovL3B1cmwub3JnL2RjL2VsZW1lbnRzLzEuMS8iLz48cmRmOkRlc2NyaXB0aW9uIHJkZjphYm91dD0idXVpZDpmYWY1YmRkNS1iYTNkLTExZGEtYWQzMS1kMzNkNzUxODJmMWIiIHhtbG5zOmRjPSJodHRwOi8vcHVybC5vcmcvZGMvZWxlbWVudHMvMS4xLyI+PGRjOmNyZWF0b3I+PHJkZjpTZXEgeG1sbnM6cmRmPSJodHRwOi8vd3d3LnczLm9yZy8xOTk5LzAyLzIyLXJkZi1zeW50YXgtbnMjIj48cmRmOmxpPmJvc3N1YTwvcmRmOmxpPjwvcmRmOlNlcT4NCgkJCTwvZGM6Y3JlYXRvcj48L3JkZjpEZXNjcmlwdGlvbj48L3JkZjpSREY+PC94OnhtcG1ldGE+DQogICAgICAgICAgICAgICAgICAgICAgICAgICAgICAgICAgICAgICAgICAgICAgICAgICAgICAgICAgICAgICAgICAgICAgICAgICAgICAgICAgICAgICAgICAgICAgICAgICAgCiAgICAgICAgICAgICAgICAgICAgICAgICAgICAgICAgICAgICAgICAgICAgICAgICAgICAgICAgICAgICAgICAgICAgICAgICAgICAgICAgICAgICAgICAgICAgICAgICAgICAKICAgICAgICAgICAgICAgICAgICAgICAgICAgICAgICAgICAgICAgICAgICAgICAgICAgICAgICAgICAgICAgICAgICAgICAgICAgICAgICAgICAgICAgICAgICAgICAgICAgIAogICAgICAgICAgICAgICAgICAgICAgICAgICAgICAgICAgICAgICAgICAgICAgICAgICAgICAgICAgICAgICAgICAgICAgICAgICAgICAgICAgICAgICAgICAgICAgICAgICAgCiAgICAgICAgICAgICAgICAgICAgICAgICAgICAgICAgICAgICAgICAgICAgICAgICAgICAgICAgICAgICAgICAgICAgICAgICAgICAgICAgICAgICAgICAgICAgICAgICAgICAKICAgICAgICAgICAgICAgICAgICAgICAgICAgICAgICAgICAgICAgICAgICAgICAgICAgICAgICAgICAgICAgICAgICAgICAgICAgICAgICAgICAgICAgICAgICAgICAgICAgIAogICAgICAgICAgICAgICAgICAgICAgICAgICAgICAgICAgICAgICAgICAgICAgICAgICAgICAgICAgICAgICAgICAgICAgICAgICAgICAgICAgICAgICAgICAgICAgICAgICAgCiAgICAgICAgICAgICAgICAgICAgICAgICAgICAgICAgICAgICAgICAgICAgICAgICAgICAgICAgICAgICAgICAgICAgICAgICAgICAgICAgICAgICAgICAgICAgICAgICAgICAKICAgICAgICAgICAgICAgICAgICAgICAgICAgICAgICAgICAgICAgICAgICAgICAgICAgICAgICAgICAgICAgICAgICAgICAgICAgICAgICAgICAgICAgICAgICAgICAgICAgIAogICAgICAgICAgICAgICAgICAgICAgICAgICAgICAgICAgICAgICAgICAgICAgICAgICAgICAgICAgICAgICAgICAgICAgICAgICAgICAgICAgICAgICAgICAgICAgICAgICAgCiAgICAgICAgICAgICAgICAgICAgICAgICAgICAgICAgICAgICAgICAgICAgICAgICAgICAgICAgICAgICAgICAgICAgICAgICAgICAgICAgICAgICAgICAgICAgICAgICAgICAKICAgICAgICAgICAgICAgICAgICAgICAgICAgICAgICAgICAgICAgICAgICAgICAgICAgICAgICAgICAgICAgICAgICAgICAgICAgICAgICAgICAgICAgICAgICAgICAgICAgIAogICAgICAgICAgICAgICAgICAgICAgICAgICAgICAgICAgICAgICAgICAgICAgICAgICAgICAgICAgICAgICAgICAgICAgICAgICAgICAgICAgICAgICAgICAgICAgICAgICAgCiAgICAgICAgICAgICAgICAgICAgICAgICAgICAgICAgICAgICAgICAgICAgICAgICAgICAgICAgICAgICAgICAgICAgICAgICAgICAgICAgICAgICAgICAgICAgICAgICAgICAKICAgICAgICAgICAgICAgICAgICAgICAgICAgICAgICAgICAgICAgICAgICAgICAgICAgICAgICAgICAgICAgICAgICAgICAgICAgICAgICAgICAgICAgICAgICAgICAgICAgIAogICAgICAgICAgICAgICAgICAgICAgICAgICAgICAgICAgICAgICAgICAgICAgICAgICAgICAgICAgICAgICAgICAgICAgICAgICAgICAgICAgICAgICAgICAgICAgICAgICAgCiAgICAgICAgICAgICAgICAgICAgICAgICAgICAgICAgICAgICAgICAgICAgICAgICAgICAgICAgICAgICAgICAgICAgICAgICAgICAgICAgICAgICAgICAgICAgICAgICAgICAKICAgICAgICAgICAgICAgICAgICAgICAgICAgICAgICAgICAgICAgICAgICAgICAgICAgICAgICAgICAgICAgICAgICAgICAgICAgICAgICAgICAgICAgICAgICAgICAgICAgIAogICAgICAgICAgICAgICAgICAgICAgICAgICAgICAgICAgICAgICAgICAgICAgICAgICAgICAgICAgICAgICAgICAgICAgICAgICAgICAgICAgICAgICAgICAgICAgICAgICAgCiAgICAgICAgICAgICAgICAgICAgICAgICAgICAgICAgICAgICAgICAgICAgICAgICAgICAgICAgICAgICAgICAgICAgICAgICAgICAgICAgICAgICAgICAgICAgICAgICAgICAKICAgICAgICAgICAgICAgICAgICAgICAgICAgIDw/eHBhY2tldCBlbmQ9J3cnPz7/2wBDAAcFBQYFBAcGBQYIBwcIChELCgkJChUPEAwRGBUaGRgVGBcbHichGx0lHRcYIi4iJSgpKywrGiAvMy8qMicqKyr/2wBDAQcICAoJChQLCxQqHBgcKioqKioqKioqKioqKioqKioqKioqKioqKioqKioqKioqKioqKioqKioqKioqKioqKir/wAARCADHAPgDASIAAhEBAxEB/8QAHwAAAQUBAQEBAQEAAAAAAAAAAAECAwQFBgcICQoL/8QAtRAAAgEDAwIEAwUFBAQAAAF9AQIDAAQRBRIhMUEGE1FhByJxFDKBkaEII0KxwRVS0fAkM2JyggkKFhcYGRolJicoKSo0NTY3ODk6Q0RFRkdISUpTVFVWV1hZWmNkZWZnaGlqc3R1dnd4eXqDhIWGh4iJipKTlJWWl5iZmqKjpKWmp6ipqrKztLW2t7i5usLDxMXGx8jJytLT1NXW19jZ2uHi4+Tl5ufo6erx8vP09fb3+Pn6/8QAHwEAAwEBAQEBAQEBAQAAAAAAAAECAwQFBgcICQoL/8QAtREAAgECBAQDBAcFBAQAAQJ3AAECAxEEBSExBhJBUQdhcRMiMoEIFEKRobHBCSMzUvAVYnLRChYkNOEl8RcYGRomJygpKjU2Nzg5OkNERUZHSElKU1RVVldYWVpjZGVmZ2hpanN0dXZ3eHl6goOEhYaHiImKkpOUlZaXmJmaoqOkpaanqKmqsrO0tba3uLm6wsPExcbHyMnK0tPU1dbX2Nna4uPk5ebn6Onq8vP09fb3+Pn6/9oADAMBAAIRAxEAPwD6RooooAKKKKACiisbxfr8XhfwhqWszsoFpAzqCcbmx8o/E4oA2aK8c+DHjOa7k1XRdT16PW7tIl1CKdJNwCuvzxZ/2W4/Gr2k/FXXrttFvb/w9awaTquoNp6zR3ZaUPlgH24xtO31zQB6rRXlEvxX8QRW95qf/CO2raPYasdPnmF2fMYbwgZU29iecn6U7xR8YLnw74q+wiwsZrJLmKB1F0Wufnx821QVUcj7xBNAHqtFIp3KCO4zS0AFFfMvjzX7sfFLxJa3PiLxTZxW0kYt4dHh82MAxgndyNvNdjYfFq80bwB4XS7uLG91jU4ZHa4vrjyYkVGI+dlB+foMY65oA9pory9fixfalpfhubw/o0F1da1PNbNFJc7UieMckOByvfOOldP4E8V3niix1AarYR2N/pt69ncRwy+YhZcHKkgHHNAHU0UVwHxIvdYu9W0LwroWptpL6w8vn3qKC6RouSq56Mc9aAO/orznQ9O8RfD3T9bk1XxF/wAJFp9tbie2S8dY5lfuGcnAXp1NY2m/Gm9udP8AEjT6bYy3Gj2K3kTWk7vDMDxt3Mo/MZFAHr9FedSePfEsNjpEEmhWI1nXZCbC1F2fLSIIHZ5X28EA9ADWPr3jrU9R0OO3mibSdX03X7WzvorebchDsCNrcZVlPegD12ivJH+N8Q8XtYpbWTacuojTj/pR+1Ft23zBFjGwH3zXrdABRQehr5+07QvFOpaDrvjCy8c6nbXGn312YbKQ74CInOFIJ6EcdKAPoGivItf+MWoaLoOmX0Nhp8pm0yO+mSe5KyOSOVSNAT/wJsD3rYn+Ki2P2i41CwENodDj1a0bflpifvRfUEr09aAPRaK8l8RfGS60K6t7FrHTo76OwS9vYrq8MQG4ZEUXB3Nj1wK9M0TVYdd0Gy1S1BEN5AkyBuoDDOKAL1FFFABRRUc88VrbvPcOI4o1LOx6AetAElFYX/Ca+HP+gvb/AJn/AAo/4TXw5/0F7f8AM/4UAbtc74y8Iw+M9NtdPvblo7OO6SeeEIGFwqnOxs9ial/4TXw5/wBBe3/M/wCFH/Ca+HP+gvb/AJn/AAoAx/8AhV2hWPiTT9Y8N28GiS2okSdLSBVW5jcYKt+POaZb/DS3g0HRNMGoyldI1L7eknljMhyx2n0HzVt/8Jr4c/6C9v8Amf8ACj/hNfDn/QXt/wAz/hQBhyfDO3k8K6lon9oyhL/UzqDS+WMoTIH2genGKztU+Dyahd6gYfEF5a2V9dJetaJEhUTqQdxYjJXj7ua63/hNfDn/AEF7f8z/AIUf8Jr4c/6C9v8Amf8ACgDcRdqKuc4GM0tYX/Ca+HP+gvb/AJn/AAo/4TXw5/0F7f8AM/4UAcdrnwjv9R8V6nrekeNdU0X+0mV5oLQAKSq7RznmrLfB+xt9D0q10rVLi11DTDIU1B40laXzDmTcrDByfyrqP+E18Of9Be3/ADP+FH/Ca+HP+gvb/mf8KAM2HwBFFceHZm1K4mk0SSSTfIoJuGdcEnHTr0FaXhrwxH4bn1eWK5ef+1L57xgygbCwA2j16Uf8Jr4c/wCgvb/mf8KP+E18Of8AQXt/zP8AhQBu1zXjXwVaeNNOgimuriwvLSTzrS9tX2yQP6j29qsf8Jr4c/6C9v8Amf8ACj/hNfDn/QXt/wAz/hQBymn/AAdtItD1q11nXdS1e/1iEQT39zJl1RTlQo5HB596avwiaSLVDqHiO6vLjVNOFhNK8CKFVTlSqrgDA4x+Ndb/AMJr4c/6C9v+Z/wo/wCE18Of9Be3/M/4UAUtd8ER6vp2lLbahPp+paQB9jv4lBZDt2nKnggjqKzR8LrZtHS3n1O4nvpNSi1G7vnUb7mSM5AI6AY4AHQVv/8ACa+HP+gvb/mf8KP+E18Of9Be3/M/4UAYEHwwhtPE8moWWr3Nvp8139tk09Ikw0p5P7zG4KTztrvKwv8AhNfDn/QXt/zP+FH/AAmvhz/oL2/5n/CgDdPIryVvgbNJdXcUnjTWF0i9uXnn0yE7I3DtuZevf6V3v/Ca+HP+gvb/AJn/AAo/4TXw5/0F7f8AM/4UAc3rvwnt9Tv5pdN1i50q2udOXTrm3gjRvMiUEKAzDK8HnHWrGrfC7T9Z0rw1Z3t3If7BKAOqgfaEUAFGHocA1uf8Jr4c/wCgvb/mf8KP+E18Of8AQXt/zP8AhQBjeJ/hymu69/a+m6rNpN3NCLe5aKFJPNjHQDcDtYc8iuwsrVLGxhtYizJCgQM5yTgYyT61kf8ACa+HP+gvb/mf8KP+E18Of9Be3/M/4UAbtFQWd5b6haJdWUqzQSZKOvQ84/pRQBPSN90/SlpH+4fpQBWyfWjLe9YvjDV5dA8FavqtsAZrO0kljz03BeK4vwZeavpXjDS9M1DWrzVota0j7e/2shjDKCMhMAYU7untQB6dk+tG4+tIaKAFy3rRlvWuf8atqH/COGHSEu2uJ54oibNtsioW+Yhv4eO/aszw619DYapplhJeprULqfL1q6+0BA33XDDqpwePUUAdnlvWjLVzvgSe9ufCcD6pdteXQmmSSdhjfiRh07DjpXPaheajLY654mj1S7hfSbx4oLSN/wBy0cZAIZe5bJ57cUAeh5PrRuPrTUbfEr9Nyg/nS0ALlvejLetcBd6BM/jqzs9O1/W/kzeXwa+YpGmfljC9PmOR9AaiF9qK6dB4rOp3ReXUhA1lvzAITL5e0L68Z3dc0AeiZb1o3H1rnvFMlxNdaTpNrdTWa6hcMs08DbZAioWIU9icYzR4UmuUfVdMurqW7GnXflRTTHLshUMAx7kZxmgDodx9aNx9aSigBdx9aMt60lcn471i6sV0nTbH7T5uq3RgzakLJgKWIVjwucdewzQB1uW9aMn1rhNN8S/2PpFzZXNzcHVBd/Z4LXU51LxsVBGZP40A+bPXHFa3gC9mvvCqNeagNQuY7iZJJ9wJOJGA6dBjp7UAdLlvejcfWvPJrvUhYzeKV1S6DR6l5C2YfMHkiXyyuz1PXd1zXoZoANx9aNx9aSs7xDdSWPhvULmCdLeWK3dkmk+6jY4JoA0st60Zb1rzzwVqGptrE1q76oofTxMsGtNl5Js/fQjonqO3HArc8IS6w15rUOv3qXVxFdLtES7Y4gY1OxR6A9z1oA6fLetG4+tcdqiXuueKdTsYtTu9Pi0u0jli+ySbd8rhjl/UDbjHTrW74c1GTV/DOn384xLPArPgY+bHNAG5H/qxRRH/AKsUUAOpG+4fpS0jcqfpQBmanp1vq+lXWnXq77e6iaKRfVWGDXM+FvAX/CPaquoX2s3OrT29qLKzMyKgggBzt4+8emSfSux2N6GjY3oaAG0U7Y3oaNjehoAzNb0n+2LFIo7uaznhlWaGeI8o69Mjow9QetR6JoraZcXN5e3jX2oXZXzp2QINqjhVUdAOfXrWvsb0NGxvQ0AY1lok2m6ENPsNQaFxO0vnmIMcNIXK4PHQkZrPvPBv2m8ukj1OWHTL2cXF3YrGv7x+M4fqAcDIrqdjeho2N6GgBvAXA4A6CinbG9DRsb0NAGXYaOtlrmp6kZ2lfUDH8pXiNUXAA9epNZS+DMXiodTlOkpd/bE0/wAtQBLndjf127ucfrXU7G9DRsb0NAGDqPh+61GMO+qyJdwXZubOdYV/cAjGwj+IYJHPJzVnQtGGj28/mXL3d1dTGe4ncBd7kY4A6AAAAVq7G9DRsb0NADaKdsb0NGxvQ0ANrL17Q11qG2KXD2l3ZzCe2uEUMY3xjoeoIJBFa2xvQ0bG9DQBztn4P07y5312KHWbq5l86aa6gUjdgABV6KABil0fwrF4e0kWOhzR2RN0Z5ZI7dR5ilyxQj6HbntXQ7G9DRsb0NAHLP4M33rL/acw0p7v7a1gI1/1ud2N/XbnnHr3rpyc07Y3oaNjehoAbVPVdMg1nSbnTrssIbhCjFDgj3HvV7Y3oaNjehoAwNK8PXNrqiahq2qyajcQwmCAmJYwiEgkkDqxwMn9Ktw6S1tNqs1tdNHNqDB1fYD5LBAoIHfpnmtTY3oaNjehoA5m/wDC11c3P2q01mW0up7Zba9lSFT9oUfxAH7rcnketbtjZw6dp9vZWo2w28axoCecAYqzsb0NGxvQ0ATx/wCrFFEfEYzxRQA6iiigAoqC9+0/YZ/sOw3Plt5Pmfd344z7Zrzr4WHW4/FvjO08R6odRu4LqDc6grGuY84Rc8AZx+FAHplFFFABRXOeOba+vvDf2PTIZJpLm4ijkWObym8vcC3zZyOB25rntI0uFbHUtBke40R7aZJ70/bnnEsBB5WVjlAduD0xg+uaAPRKK5HwKh/4mMuntcnQ3kX+z/tLs7NgfOyludhPTP16Vg6h5tzpviDxQby5W/0u+eK1WOdhGiRlRsKdDnJzkd6APTKKZE5khRyMFlBxT6ADNFecXPhDTLj4hW1vpz30Ztf9Ov5BfTEZJPloBuwASCSMdBjvUCmZdJt/Fy3d0dRl1QRMonYx+UZ/L8vZnbjA9M5oA9OorlvHun3+raVZ2GnwyTCa8Tz1juTB+7GScsDkDIHTmk8BiC2sL3TY7OazuLK5KXEUl01wNxAIZXbkqQR6UAdVRRRQAUUVxnxB1C7ibRdJso5ZP7VvDDIsUvlEqqFsb+qjjnHOM0AdnRXmtn4ng8LaTdaVcz/YNR+2fZ44r2782KHKhtyyNg7NvODznitr4ZajBf8AhALDqn9pyQXM6STmUOx/etgk+46e1AHYUV55rOnG28R262Oo3l34juLtZgEmYRwW2/5gyZ2hNvHqT0r0OgAoorK8UXRs/CupXC3P2Rkt3KzgElGxwQB70AatFebeCF1Gz12W0ltr3Smn07fHb39ybgTyg8yg5O3GRleDzW74Lh1C2v8AXYNW1KTULhbtSZGG1VzGp2ovZR2FAHWUVxPjvSLu5hn1C3F9fSQxAW1paXPkeQ/JMpORu7ce3vXTaDdi+8PWFyLj7T5lujGbbjecDJx25oA0KKKKACiignHWgArG0nwza6Pr2sarbyyvNq8iSTK5G1Si7Rt/CtfzE/vCjzE/vCgB1FN8xP7wo8xP7woAz9c0S316wW3uXkiaKRZoZomw8Ui/dYfT34rBv/h9FqGkTWkusXwubmZJrm9+QvNs+6hBXbt/2QMV13mJ/eFHmJ/eFAGFY+Hb+1sJLafxHqFyzOjJKyRI0YU52jaoGD0NRXngu0vNRlmN5dR2lxKJrmxRh5U8gxhjxkdBkAgHFdF5if3hR5if3hQA4DAwKKb5if3hR5if3hQBQsdGhsdX1HUUkkeXUGQyBiMLsXaAPasweCrQaoJzeXRsluPta6eWHkrNnO/pnrztzjPaui8xP7wo8xP7woAw9Q8LrqMJ87UrxbiO6N1a3Ksoe2JGNq8YK4yMHPWrmiaHDolvMscstxPcSGa4uJjl5XIxk44HAAwOBWh5i/3qPMT+8KAHUU3zE/vCjzE/vCgB1ZmuaHBrlrHHLJJBNBIJbe4hOHhcdGGePwPBrR8xP7wo8xP7woAytJ8O2umQSiVmvri4k82e5uQGaRsYz0wOABgCm2fhuLTtLSy0+6mtlW6NwzxhQz5cuUPH3TnH0rX8xP7wo8xP7woA5Gz8C3VhrV1qFp4n1JPtdz9omhMcJD/7OSm7bgYxmuwpvmJ/eFHmJ/eFADqralp9vq2mz2F6m+3uEKSKDgkfUdKn8xP7wo8xP7woAxNI8MLpuofbrvUbvUrlIjDDJclf3Uec7QFAB6Dk8mraaMkT6lJBcSxS6gdzOuMxnaFBXj2zzWh5if3hR5if3hQBz174PW7uFuItVvrWd4Ft7qWJlzdIP72RgHk8rg81uWNlBpthBZ2cflwQIEjUdgKl8xP7wo8xP7woAdRQDkZFFABSP9w/SlpH+4fpQBVxSBlbO1g2OuDnFVdWtGv9Gu7RbySxM0LJ9piIDRAjlhnjIrzH4c6VYp48uLjwXFNH4es7Q2t3du7FdRuc/fXPBxzlh60Aes0UGigAJAXLEADqTSKyuMoysPY5rnfHVjNqnhxdOtxaubq5ijeO6m8tJE3ZZfU5A6Dk1l+GtLFnHrPhrT7a10C9jKSm50xSysj9GAfo/wApGDnsaAO3o6dTXNfDyEweDIIfNkmMdxOvmStuZsStyT61yfiLxXZ3vi7S2uLqe3t9P1ZIo7cwSDzGwwaRvlwR2A/GgD1GijIK5HfkUdqAEyN23cN3XGeaXI3YyM9cZ5ryXTPtEkNv4t1TTrc7tTaJ7lZ3F0oMpjXH8O3oCnpTriKXS5Be/wBmTNrX9rIH1hZA0c0bTY2Bs8/KduzHGKAPWaSs/XrC51HSJrW01CXT2cfNNCoL7e4GehPTPaqPgZdngTSF3M222A3Mck/U0Ab1FFFABR7k4FFcb8QZruWXQdJtYUmj1O9MU0crlUZVQsAxHOMjp36UAdiCCu4MCPUHilGGAKkEHoRXktybm2Fv4Ut9Ot42l1fybm3jncWrKYTIuP4lU45T1HvXY+Bo1sf7V0n7JFaS2NwoeK2dmg+ZdwMYblQR1HrQB1ORu25G7rjPNFeS3NvO2uz6+lkos11hQdZEx+0qgcKYxH08vPy9enOK9bNACUDmisnxVcLa+EtTmeaSALbsBJEMspIwMe+TQBrAhvukHnHBzSAhs7SDjg4NeRwW9/4Ys9UV9Pi0OabRmaKKznMqSsCN0rE8q4z+vU11ek6VZ+HfGNhbaNF5MF7p7vcIrEh2UriQg/xHJ570AdizIn33VfTJxS/TkVwPjDw3L4i8TySvp+kalBY2I2QX8pJViST8q8rkDG411fhy9t9R8NafdWUH2eCSBSkP/PMYxt+goA3I/wDViiiP/ViigB1I/wBw/SlpGGVIoAydW02HWdIutNunlSC6iMUjQvsfaeuD2rB8K/D3S/B8sZ0i+1ZoY4zGlrcXzSQqD6J0BrrfKb0/WjyW9P1oAYaKf5Len60eS3p+tAGdq+kWet2H2S/RigYSI6NteNx0dWHRh60zRtEtdEikFs080szb5ri5kMkspxgFmPXitTyW9P1o8lvT9aAMmPQLSHSP7Ot5bmCETGbdFMVfcX3kbh2J7enFWb7TrfUGtWuQ2bWdZ49px84BAz6jmrvlN6D86PJb0/WgBmaAcU/yW9P1o8lvT9aAOeXwdpS6t9tH2nb53n/YzMfs/m/3/L6bs8/XmlTwhpSax9v/ANIYCY3C2rTE26S/89BH0De/rXQeU3oPzo8pvQfnQBStLBLRbkLNcSi4laVvOlL7S3Zc9F9BS6dYQaVpsFjaBhDAuxNxycfWrnkt6frR5Len60AMop/kt6frR5Len60AMqjq+kWmt2Yt70ONrh45YnKSROOjKw6GtHyW9P1o8lvT9aAOfHg/Sv7Jaxb7Q5abzzdtMftHm9pPM67scfTipbXwxZWdiLeCa8VjOtxLcfaD507qf436sO2OmOK2/Kf0H50eU3p+tAHOv4N0qTU2u2N15bTee1kJz9naXOd5j6Zzz9a3yc0/yW9P1o8lvT9aAGVDeWlvf2U1peRLNBMhSSNhwwNWfJb0/WjyW9P1oA5+w8H6ZZCfzWur8zQm3LX05lKxHrGuei0uneEdP00XBhmvZJZofIE01yzyQx9kRv4QK3/Jb0/Wl8p/T9aAOcvvB2m38kUsk19DMkIt5JYLlke5jHRZSPvDr78mtu3t4bS2it7aNYoYlCIijAUDoKn8pvT9aPJb0/WgCaP/AFYooQFUANFADqKKKACq1nqVjqPmfYLyC68ptsnkyh9h9Djoah11rNNAvjqly1rZeQ4nnV9pjTHJz24715l4J02w8OfFp7LTYoYbC+0hH077G+5ZokPMk3rIcjn0oA9cooooAiuLmCzt3nu5o4IYxl5JGCqo9ST0qva61pd7ayXNnqNrPbxf6yWKZWVPqQcCsbx3bfb9Dt7D7Xa2xur2GMG6UsknzZ2Y7k46Vg28WnWceq6T4nFmLXTJYrt57KDyI5w2dqPGudxBHTnPFAHfWl5bX9us9lcRXELdJInDKfxFMfUbKK+Szku4EupBlIGkAdh6heprA8H2E0U2o6o9mNMt9QdGgsAAPLVRjewHAZuuO3Gea4vWree5udf1mGG1Om2uor9olkH+mKYyu7ym/hHTAPv60AeuUU2Ng8asOjAEZpTkKcdccUAQHUbMX4sjdwC7I3CDzBvI9dvWhdQs2vmslu4TdKu4wCQbwPXb1ryfTI71dKt/EmpR2MwbVmSWDySLgsZzGrCXOQRx8uMYGKfcxXVhaxmDT7eSYa2hXW0nUtOWmwUx97cASpB4wKAPWLm5gs7d57uaOCFBlpJGCqo9yaWC4hurdJ7WVJonGUkjYMrD1BFcp4/ie9TR7C1SGS6nvg0S3IzAdilj5g7jHQeuKPh9E9pBrFlciNLqHUGMyQf6lSygjyx/CuO3rmgDr6KKKACmTTRW8LSzyLFGgyzu2Ao9SafXEfET7ZcXnhzTrXyhFe6gUmM6boxiNmXcvfkdO5xQB18eoWctj9siu4HtcbvPWQFMeu7pT7a6t723Weznjnhf7skThlP0IryW7jvUvLbw7HHYhm1sJdXCwlbeXMBdSYs4ByB8oOCQK7LwQps7rW9Mmjt/PtLlfMntk8uOYsgYHy8kIQOCB160AdKb+zF8LI3UP2orvEHmDeV9dvXFWK8vuba2Phe41Yov9rrrvE5GJA4n2hc9cbcDHTFeoDpzQAUE460VieMp47bwXqsk/mbBbMD5Rw3Ixwe3WgDTtNRsr9Xaxu4LlY22uYZA20+hx0NFrf2l9v8AsV1DceWxR/KkDbWHY46GvJ7ix1DQLfUVvks7a4m0FlhOmKVTapG4uO7AHhvrXW2FlZaX430uPR4ooY5tLbz1iAAZVK7GIHU8nmgDq7rULOyeJLy7gt2mbbGJZApc+gz1qxXnviK0b/hMdSnbTrXWY5NPRSssyqbADd85Dfwt6rz8tdN4LluJ/BOkyXrFpmtULMe/HX8qANyiiigAoooJwM0AMmhjuIHhnRZIpFKujDIYHqCKw/Dngfw94Umml0LTktpJuGcszkL/AHQWJwvsOK2/OX3o85fegCSio/OX3o85fegCDU9Ls9YsHs9RgWaB+qnjB7EEcgj1FY1z4A8O3eirpc9nIbYTi4JFw4dpB0YvncT9TXQecvvR5y+9AGJY+CtG0+xmtII7loZpEkcS3ckh3KcrgsxI57VJdeENEvNYGp3FnuuMhmHmMEdh0LIDtYj1IrX85fejzl96AJOlFR+cvvR5y+9AGSvhHRF1w6stkBdF/M++2zfjG/Znbu98ZpY/CejR642rpZj7WW353ttD9N4TO0N74zWr5y+9HnL70AZdz4V0i8s7i2uLYvHcXBuXPmMGWQ/xK2cqfpirelaRZaLZfZdNh8qPJZskszsepZjyT7mrPnL70ecvvQBJRUfnL70ecvvQBJVPVNJstasWs9SgE0LEHGSCpHQgjkEeoqx5y+9HnL70AZS+EtFXQ20n7EDaM29gzsXL/wB/fndu985p0HhbSbbTYrGG2ZYY5luB+8bc0inIZmzljn1NafnL70ecvvQBlN4S0V9c/tdrIG73b8722F/7+zO3d/tYzWzUfnL70ecvvQBJUdxbw3dtJb3MaywyqVdHGQwPUEUecvvR5y+9AGTpnhHRdIWcWdnn7QhjkM0jSnYf4BuJwvsOKTT/AAfoumQ3UVnaFBdIY5GMrM2z+6CTlVGeAOBWv5y+9HnL70AY9/4O0PUltReWZf7LGIkxKw3IP4WwfmX2Oa2kRY41SNQqKAFUDAA9Kb5y+9HnL70ASUUgO4ZFFAC0j/cP0paR/uH6UAVaqxalYz6lPp8N3DJeW6h5oFcF4wehI7Zqv4j1G60nw3fX2nWUl9dwwlobeJctI3YY+teRfCW6aH4pazDdWer/AG2+sYprqa9timJcksTz8q9l+lAHt5ooNFAEF9fWmmWMl5qFxHbW0Qy8sjYVR7mqVl4m0PUNPnv7LVLaa0tziWZZPlTvyaoeOI4rjRrW2uL9bBJr6BfOeLeM7shfQZI6niuVvrm4j1KLSb67XUNPs9WtmlvPLRQVYMfLk2jadrBfzFAHomn6jZaraLdabdRXUDEgSRNuGR2qjfeK9A03U106/wBWtbe8bbiB5MN83Tj3rO0SSCPxt4ka3eFLP/RgSrAJ5xQ7vbP3awNTkewk1/X9P1uJ57a9G7T3tlxIQFURsWG4kjoVwPrQB6PRSIxeJWK7SygkentS0AYP/Cc+F/tws/7dsvtJk8oRGX5i+cbfrmtAa3pZ1Y6WNQtzfAZNv5g3j8KxGhh1vx+YTHH9m0SNZGUKMSTyA7Sf91Rn6mub/cf8IZaY8v8Atb+3l3Zx5vm/aDn3+5+lAHoep6pYaNYteardxWlspAMsrbVBPAFN0vWNO1u0N1pF5FeQBihkibIyO1YnjKO21L+yrR9Vjsc6gMSbBJl1UkJz8qt6bqk8H3lzKuqWNzcJerp935Ed2iKvnDaD823jcM4OKAOjooooADUN3d21havc3s8cEEYy0kjYA/Gpq4z4grcy3vhqCKdba2l1ErPNIoZU/dnacHjO7pnvigDo01/SJNJbVE1G2NivW4Eg2g+mfX2qzZX1pqVml1p9xHcwP92SJtwNcRpTafFc3mn6vNb3EkOpqtpqDQhVnnMeQZAuFLL0zxnjvV7wPJ9jl120vZoJZ4r8GS6iwkU7uoICr0UjgEDPNAHVS3dtbzwwzzxxy3DFYkZsFyBkgDvxU1eZ3l9eyeNtH1DVND1Nbj+0Ght8ohSKHYwwp3ck/eJ/wr000AJSMyojPIwVVGSxOABS1i+Mpkg8Fau80TSx/ZWDIrYyDx17daALmma3pesiT+yr+3u/KOH8pw22rMN1b3EsscE0cjwttlVGyUOM4Poa4Tw5YXFp4sit9Rv7W9luNH8uKbT08ryY1I6gE5Jzw3t0rV8HaZZaHqHiG1sl8qBLtHZnbJYmNSWZj1J6kmgDpbu7trC1e5vZ47eBPvSSNtVfxqbIIBHIIyDXmvxMuru7sb6OfSr6fTLWBZIJrcI0UspIO5iWBwvbjqc16HZTG4sLeVopIS8akxygBl46HFAGhH/qxRRH/qxRQA6kf7h+lLSEZUigCr0qsmnWcWozahFbRJeToscs4X53UdAT6Cr3kH1FHkH1FAEVFS+QfUUeQfUUAVLuzttQtJLW+gjuLeQbXjkXKsPpVaHQdJt9JfTINOtksZM77cRjY2euR3rU8g+oo8g+ooAyovD+kQaYNOh062SzDiQQCMbdwOQceuRmibQNIuNWTU59NtpL6MDbcNGC4x05rV8g+oo8g+ooAizRUvkH1FHkH1FAFSGztre4nnggSOa5YNM6rgyEDAJ9eKrroWlLq51VdPthfkYNyIxv/OtPyD6ijyD6igDLm0HSbizuLWfTraSC5lM00bRgiRz/ABH3461YsrG1020S10+3jt4I/uxxLgCrnkH1FHkH1FAEVFS+QfUUeQfUUARVBe2VrqVo9rf28dzbyDDxSrlT+FXPIPqKPIPqKAMoaBpA0g6UNOtvsB623ljYe+cevvTo9C0qKwhsotPt0tYZBLHCIxtVwchgPXPOa0/IPqKPIPqKAK01tBcSRSTxJI8L742YZKNjGR74JqSpfIPqKPIPqKAIqRkWSNkkUMjDDKwyCPSpvIPqKPIPqKAMvTNC0rRfMOk6fb2ZlOXMKBd1WG0+zdblXtoyt2MXAK/63jHzevHFXPIPqKPIPqKAKT6faSaf9gkto2tNgj8gr8u0dBj0qxjGAOABxUvkH1FHkH1FAGfo99PdahqMMzApbyKsYAxgHP8AhRUeiQSw6vq5kRlVpV2sRgN16fnRWtVJS08vyMqTbjr5/mbVFFFZGoUUUUAFFFFABRRRQAUUUUAFFFFABRRRQAUUUUAFFFFABRRRQAUUUUAFFFFABRRRQAUUUUAFFFFABRRRQB//2Q==)"
      ]
    },
    {
      "cell_type": "code",
      "metadata": {
        "id": "krEolWOZxxid",
        "colab": {
          "base_uri": "https://localhost:8080/"
        },
        "outputId": "9d978a5d-91b9-48bb-ca35-465a12c663f2"
      },
      "source": [
        "#   5.1. Создайте из таблицы  DataFrame.\n",
        "\n",
        "# ваш код\n",
        "import pandas as pd\n",
        "\n",
        "data = {\n",
        "    'Anna': [51.0, 52.0, 51.4, 52.8, 50.5],\n",
        "    'Ben': [70.0, 70.5, 69.1, 69.8, 70.5],\n",
        "    'Carole': [64.0, 64.2, 66.8, 66.0, 63.4],\n",
        "    'Dave': [81.0, 81.3, 80.5, 80.9, 81.4]\n",
        "}\n",
        "\n",
        "weight_changes = pd.DataFrame(data)\n",
        "print(weight_changes)"
      ],
      "execution_count": null,
      "outputs": [
        {
          "output_type": "stream",
          "name": "stdout",
          "text": [
            "   Anna   Ben  Carole  Dave\n",
            "0  51.0  70.0    64.0  81.0\n",
            "1  52.0  70.5    64.2  81.3\n",
            "2  51.4  69.1    66.8  80.5\n",
            "3  52.8  69.8    66.0  80.9\n",
            "4  50.5  70.5    63.4  81.4\n"
          ]
        }
      ]
    },
    {
      "cell_type": "code",
      "metadata": {
        "id": "EdtMf1wmyeq5",
        "colab": {
          "base_uri": "https://localhost:8080/"
        },
        "outputId": "14c7d760-431c-4571-bbc9-343030806a5a"
      },
      "source": [
        "#  5.2. Преобразуйте этот DataFrame в tidy format.\n",
        "\n",
        "# ваш код\n",
        "tidy_weight_changes = weight_changes.melt(var_name='Person', value_name='Weight')\n",
        "print(tidy_weight_changes)"
      ],
      "execution_count": null,
      "outputs": [
        {
          "output_type": "stream",
          "name": "stdout",
          "text": [
            "    Person  Weight\n",
            "0     Anna    51.0\n",
            "1     Anna    52.0\n",
            "2     Anna    51.4\n",
            "3     Anna    52.8\n",
            "4     Anna    50.5\n",
            "5      Ben    70.0\n",
            "6      Ben    70.5\n",
            "7      Ben    69.1\n",
            "8      Ben    69.8\n",
            "9      Ben    70.5\n",
            "10  Carole    64.0\n",
            "11  Carole    64.2\n",
            "12  Carole    66.8\n",
            "13  Carole    66.0\n",
            "14  Carole    63.4\n",
            "15    Dave    81.0\n",
            "16    Dave    81.3\n",
            "17    Dave    80.5\n",
            "18    Dave    80.9\n",
            "19    Dave    81.4\n"
          ]
        }
      ]
    },
    {
      "cell_type": "code",
      "metadata": {
        "id": "7pwQDOGuXpbX",
        "colab": {
          "base_uri": "https://localhost:8080/"
        },
        "outputId": "38817ce9-eb46-4eb6-c6a8-27d4b7b2307d"
      },
      "source": [
        "#  5.3. Определите, у кого из этих четырех человек было меньше всего колебаний по весу.\n",
        "\n",
        "# ваш код\n",
        "min_variability_person = tidy_weight_changes.groupby('Person')['Weight'].std().idxmin()\n",
        "print(min_variability_person)"
      ],
      "execution_count": null,
      "outputs": [
        {
          "output_type": "stream",
          "name": "stdout",
          "text": [
            "Dave\n"
          ]
        }
      ]
    },
    {
      "cell_type": "code",
      "metadata": {
        "id": "xEvNXRrNXpwJ",
        "colab": {
          "base_uri": "https://localhost:8080/"
        },
        "outputId": "1db6d9e7-d5e4-4dc7-b90d-9274142d53ab"
      },
      "source": [
        "#  5.4. Для людей, чей средний вес менее 65 кг, пересчитайте их\n",
        "#  вес (за все четыре дня) в фунтах и отобразить эти данные.\n",
        "\n",
        "# ваш код\n",
        "lighter_people = tidy_weight_changes.groupby('Person')['Weight'].mean() < 65\n",
        "selected_data = tidy_weight_changes[tidy_weight_changes['Person'].isin(lighter_people.index[lighter_people])].copy()\n",
        "selected_data['Weight_in_pounds'] = selected_data['Weight'] * 2.20462\n",
        "print(selected_data)\n"
      ],
      "execution_count": 34,
      "outputs": [
        {
          "output_type": "stream",
          "name": "stdout",
          "text": [
            "    Person  Weight  Weight_in_pounds\n",
            "0     Anna    51.0        112.435620\n",
            "1     Anna    52.0        114.640240\n",
            "2     Anna    51.4        113.317468\n",
            "3     Anna    52.8        116.403936\n",
            "4     Anna    50.5        111.333310\n",
            "10  Carole    64.0        141.095680\n",
            "11  Carole    64.2        141.536604\n",
            "12  Carole    66.8        147.268616\n",
            "13  Carole    66.0        145.504920\n",
            "14  Carole    63.4        139.772908\n"
          ]
        }
      ]
    }
  ]
}